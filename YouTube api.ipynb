{
 "cells": [
  {
   "cell_type": "code",
   "execution_count": 29,
   "id": "c12f62be",
   "metadata": {},
   "outputs": [],
   "source": [
    "# importing the libres\n",
    "import requests \n",
    "import pandas as pd \n",
    "import time "
   ]
  },
  {
   "cell_type": "code",
   "execution_count": 30,
   "id": "5044f9f0",
   "metadata": {},
   "outputs": [],
   "source": [
    "# api key\n",
    "API_KEY = 'XX'\n",
    "CHANNEL_ID = 'XX'\n"
   ]
  },
  {
   "cell_type": "code",
   "execution_count": 31,
   "id": "2aa71bad",
   "metadata": {},
   "outputs": [],
   "source": [
    "def get_video_details(video_id):\n",
    "\n",
    "    #collecting view, like, dislike, comment counts\n",
    "    url_video_stats = \"https://www.googleapis.com/youtube/v3/videos?id=\"+video_id+\"&part=statistics&key=\"+API_KEY\n",
    "    response_video_stats = requests.get(url_video_stats).json()\n",
    "\n",
    "    view_count = response_video_stats['items'][0]['statistics']['viewCount']\n",
    "    like_count = response_video_stats['items'][0]['statistics']['likeCount']\n",
    "    comment_count = response_video_stats['items'][0]['statistics']['commentCount']\n",
    "\n",
    "    return view_count, like_count, comment_count"
   ]
  },
  {
   "cell_type": "code",
   "execution_count": 32,
   "id": "1a6205ba",
   "metadata": {},
   "outputs": [],
   "source": [
    "def get_videos(df):\n",
    "    pageToken = \"\"\n",
    "    while 1:\n",
    "        url = \"https://www.googleapis.com/youtube/v3/search?key=\"+API_KEY+\"&channelId=\"+CHANNEL_ID+\"&part=snippet,id&order=date&maxResults=10000&\"+pageToken\n",
    "\n",
    "        response = requests.get(url).json()\n",
    "        time.sleep(1) #give it a second before starting the for loop\n",
    "        for video in response['items']:\n",
    "            if video['id']['kind'] == \"youtube#video\":\n",
    "                video_id = video['id']['videoId']\n",
    "                video_title = video['snippet']['title']\n",
    "                video_title = str(video_title).replace(\"&amp;\",\"\")\n",
    "                upload_date = video['snippet']['publishedAt']\n",
    "                upload_date = str(upload_date).split(\"T\")[0]\n",
    "                view_count, like_count, comment_count = get_video_details(video_id)\n",
    "\n",
    "                df = df.append({'video_id':video_id,'video_title':video_title,\n",
    "                                \"upload_date\":upload_date,\"view_count\":view_count,\n",
    "                                \"comment_count\":comment_count},ignore_index=True)\n",
    "        try:\n",
    "            if response['nextPageToken'] != None: #if none, it means it reached the last page and break out of it\n",
    "                pageToken = \"pageToken=\" + response['nextPageToken']\n",
    "\n",
    "        except:\n",
    "            break\n",
    "\n",
    "\n",
    "    return df"
   ]
  },
  {
   "cell_type": "code",
   "execution_count": 33,
   "id": "9f76fcf6",
   "metadata": {},
   "outputs": [
    {
     "name": "stderr",
     "output_type": "stream",
     "text": [
      "/var/folders/bz/zt5_dpg50633bdhwnvg5k9_c0000gn/T/ipykernel_3411/4058461983.py:17: FutureWarning: The frame.append method is deprecated and will be removed from pandas in a future version. Use pandas.concat instead.\n",
      "  df = df.append({'video_id':video_id,'video_title':video_title,\n"
     ]
    }
   ],
   "source": [
    "#main\n",
    "\n",
    "#build our dataframe\n",
    "df2 = pd.DataFrame(columns=[\"video_id\",\"video_title\",\"upload_date\",\"view_count\",\"like_count\",\"comment_count\"]) \n",
    "\n",
    "df2 = get_videos(df2)"
   ]
  },
  {
   "cell_type": "code",
   "execution_count": 35,
   "id": "08b4a48d",
   "metadata": {},
   "outputs": [
    {
     "data": {
      "text/html": [
       "<div>\n",
       "<style scoped>\n",
       "    .dataframe tbody tr th:only-of-type {\n",
       "        vertical-align: middle;\n",
       "    }\n",
       "\n",
       "    .dataframe tbody tr th {\n",
       "        vertical-align: top;\n",
       "    }\n",
       "\n",
       "    .dataframe thead th {\n",
       "        text-align: right;\n",
       "    }\n",
       "</style>\n",
       "<table border=\"1\" class=\"dataframe\">\n",
       "  <thead>\n",
       "    <tr style=\"text-align: right;\">\n",
       "      <th></th>\n",
       "      <th>video_id</th>\n",
       "      <th>video_title</th>\n",
       "      <th>upload_date</th>\n",
       "      <th>view_count</th>\n",
       "      <th>like_count</th>\n",
       "      <th>comment_count</th>\n",
       "    </tr>\n",
       "  </thead>\n",
       "  <tbody>\n",
       "    <tr>\n",
       "      <th>0</th>\n",
       "      <td>YATgVSA9fww</td>\n",
       "      <td>Useyd Kerimoglu - kendinize inanin #fellow2022</td>\n",
       "      <td>2022-08-14</td>\n",
       "      <td>75</td>\n",
       "      <td>NaN</td>\n",
       "      <td>2</td>\n",
       "    </tr>\n",
       "  </tbody>\n",
       "</table>\n",
       "</div>"
      ],
      "text/plain": [
       "      video_id                                     video_title upload_date  \\\n",
       "0  YATgVSA9fww  Useyd Kerimoglu - kendinize inanin #fellow2022  2022-08-14   \n",
       "\n",
       "  view_count like_count comment_count  \n",
       "0         75        NaN             2  "
      ]
     },
     "execution_count": 35,
     "metadata": {},
     "output_type": "execute_result"
    }
   ],
   "source": [
    "df2"
   ]
  },
  {
   "cell_type": "code",
   "execution_count": 36,
   "id": "8f0e6beb",
   "metadata": {},
   "outputs": [],
   "source": [
    "df2.to_csv(r'my_data.csv', index=False)\n"
   ]
  },
  {
   "cell_type": "code",
   "execution_count": null,
   "id": "b9550e8f",
   "metadata": {},
   "outputs": [],
   "source": []
  }
 ],
 "metadata": {
  "kernelspec": {
   "display_name": "Python 3 (ipykernel)",
   "language": "python",
   "name": "python3"
  },
  "language_info": {
   "codemirror_mode": {
    "name": "ipython",
    "version": 3
   },
   "file_extension": ".py",
   "mimetype": "text/x-python",
   "name": "python",
   "nbconvert_exporter": "python",
   "pygments_lexer": "ipython3",
   "version": "3.9.13"
  }
 },
 "nbformat": 4,
 "nbformat_minor": 5
}
